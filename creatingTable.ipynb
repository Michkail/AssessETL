{
 "cells": [
  {
   "cell_type": "code",
   "execution_count": 2,
   "outputs": [],
   "source": [
    "from sqlalchemy import (create_engine, Column, DateTime, Float,\n",
    "                        Integer, MetaData, String, Table)\n",
    "\n",
    "\n",
    "engine = create_engine('postgresql+psycopg2://macbook:@localhost:5432/assess_etl', echo = True)\n",
    "meta = MetaData()"
   ],
   "metadata": {
    "collapsed": false
   }
  },
  {
   "cell_type": "code",
   "execution_count": 9,
   "outputs": [
    {
     "name": "stdout",
     "output_type": "stream",
     "text": [
      "2022-12-13 02:31:59,522 INFO sqlalchemy.engine.Engine select pg_catalog.version()\n",
      "2022-12-13 02:31:59,524 INFO sqlalchemy.engine.Engine [raw sql] {}\n",
      "2022-12-13 02:31:59,528 INFO sqlalchemy.engine.Engine select current_schema()\n",
      "2022-12-13 02:31:59,529 INFO sqlalchemy.engine.Engine [raw sql] {}\n",
      "2022-12-13 02:31:59,531 INFO sqlalchemy.engine.Engine show standard_conforming_strings\n",
      "2022-12-13 02:31:59,532 INFO sqlalchemy.engine.Engine [raw sql] {}\n",
      "2022-12-13 02:31:59,534 INFO sqlalchemy.engine.Engine BEGIN (implicit)\n",
      "2022-12-13 02:31:59,537 INFO sqlalchemy.engine.Engine select relname from pg_class c join pg_namespace n on n.oid=c.relnamespace where pg_catalog.pg_table_is_visible(c.oid) and relname=%(name)s\n",
      "2022-12-13 02:31:59,538 INFO sqlalchemy.engine.Engine [generated in 0.00147s] {'name': 'customers'}\n",
      "2022-12-13 02:31:59,544 INFO sqlalchemy.engine.Engine \n",
      "CREATE TABLE customers (\n",
      "\tid SERIAL NOT NULL, \n",
      "\tcustomer_id VARCHAR, \n",
      "\tcustomer_unique_id VARCHAR, \n",
      "\tcustomer_zip_code_prefix INTEGER, \n",
      "\tcustomer_city VARCHAR, \n",
      "\tcustomer_state VARCHAR, \n",
      "\tPRIMARY KEY (id), \n",
      "\tUNIQUE (customer_id), \n",
      "\tUNIQUE (customer_unique_id)\n",
      ")\n",
      "\n",
      "\n",
      "2022-12-13 02:31:59,545 INFO sqlalchemy.engine.Engine [no key 0.00109s] {}\n",
      "2022-12-13 02:31:59,594 INFO sqlalchemy.engine.Engine COMMIT\n"
     ]
    }
   ],
   "source": [
    "customers = Table('customers', meta,\n",
    "                  Column('id', Integer, primary_key = True),\n",
    "                  Column('customer_id', String, unique = True),\n",
    "                  Column('customer_unique_id', String, unique = True),\n",
    "                  Column('customer_zip_code_prefix', Integer),\n",
    "                  Column('customer_city', String),\n",
    "                  Column('customer_state', String))\n",
    "\n",
    "meta.create_all(engine)"
   ],
   "metadata": {
    "collapsed": false
   }
  },
  {
   "cell_type": "code",
   "execution_count": 10,
   "outputs": [
    {
     "name": "stdout",
     "output_type": "stream",
     "text": [
      "2022-12-13 02:33:52,983 INFO sqlalchemy.engine.Engine BEGIN (implicit)\n",
      "2022-12-13 02:33:52,984 INFO sqlalchemy.engine.Engine select relname from pg_class c join pg_namespace n on n.oid=c.relnamespace where pg_catalog.pg_table_is_visible(c.oid) and relname=%(name)s\n",
      "2022-12-13 02:33:52,986 INFO sqlalchemy.engine.Engine [cached since 113.4s ago] {'name': 'customers'}\n",
      "2022-12-13 02:33:52,990 INFO sqlalchemy.engine.Engine select relname from pg_class c join pg_namespace n on n.oid=c.relnamespace where pg_catalog.pg_table_is_visible(c.oid) and relname=%(name)s\n",
      "2022-12-13 02:33:52,991 INFO sqlalchemy.engine.Engine [cached since 113.5s ago] {'name': 'geolocation'}\n",
      "2022-12-13 02:33:52,998 INFO sqlalchemy.engine.Engine \n",
      "CREATE TABLE geolocation (\n",
      "\tid SERIAL NOT NULL, \n",
      "\tgeolocation_zip_code_prefix INTEGER, \n",
      "\tgeolocation_lat FLOAT, \n",
      "\tgeolocation_lng FLOAT, \n",
      "\tgeolocation_city VARCHAR, \n",
      "\tgeolocation_state VARCHAR, \n",
      "\tPRIMARY KEY (id)\n",
      ")\n",
      "\n",
      "\n",
      "2022-12-13 02:33:52,999 INFO sqlalchemy.engine.Engine [no key 0.00098s] {}\n",
      "2022-12-13 02:33:53,054 INFO sqlalchemy.engine.Engine COMMIT\n"
     ]
    }
   ],
   "source": [
    "geolocation = Table('geolocation', meta,\n",
    "                    Column('id', Integer, primary_key = True),\n",
    "                    Column('geolocation_zip_code_prefix', Integer),\n",
    "                    Column('geolocation_lat', Float),\n",
    "                    Column('geolocation_lng', Float),\n",
    "                    Column('geolocation_city', String),\n",
    "                    Column('geolocation_state', String))\n",
    "\n",
    "meta.create_all(engine)"
   ],
   "metadata": {
    "collapsed": false
   }
  },
  {
   "cell_type": "code",
   "execution_count": 12,
   "outputs": [
    {
     "name": "stdout",
     "output_type": "stream",
     "text": [
      "2022-12-13 02:49:19,064 INFO sqlalchemy.engine.Engine select pg_catalog.version()\n",
      "2022-12-13 02:49:19,065 INFO sqlalchemy.engine.Engine [raw sql] {}\n",
      "2022-12-13 02:49:19,068 INFO sqlalchemy.engine.Engine select current_schema()\n",
      "2022-12-13 02:49:19,069 INFO sqlalchemy.engine.Engine [raw sql] {}\n",
      "2022-12-13 02:49:19,071 INFO sqlalchemy.engine.Engine show standard_conforming_strings\n",
      "2022-12-13 02:49:19,072 INFO sqlalchemy.engine.Engine [raw sql] {}\n",
      "2022-12-13 02:49:19,074 INFO sqlalchemy.engine.Engine BEGIN (implicit)\n",
      "2022-12-13 02:49:19,077 INFO sqlalchemy.engine.Engine select relname from pg_class c join pg_namespace n on n.oid=c.relnamespace where pg_catalog.pg_table_is_visible(c.oid) and relname=%(name)s\n",
      "2022-12-13 02:49:19,078 INFO sqlalchemy.engine.Engine [generated in 0.00129s] {'name': 'order_items'}\n",
      "2022-12-13 02:49:19,165 INFO sqlalchemy.engine.Engine \n",
      "CREATE TABLE order_items (\n",
      "\tid SERIAL NOT NULL, \n",
      "\torder_id INTEGER, \n",
      "\torder_item_id INTEGER, \n",
      "\tproduct_id VARCHAR, \n",
      "\tseller_id VARCHAR, \n",
      "\tshipping_limit_date TIMESTAMP WITHOUT TIME ZONE, \n",
      "\tprice FLOAT, \n",
      "\tfreight_value FLOAT, \n",
      "\tPRIMARY KEY (id), \n",
      "\tUNIQUE (order_id)\n",
      ")\n",
      "\n",
      "\n",
      "2022-12-13 02:49:19,166 INFO sqlalchemy.engine.Engine [no key 0.00076s] {}\n",
      "2022-12-13 02:49:19,269 INFO sqlalchemy.engine.Engine COMMIT\n"
     ]
    }
   ],
   "source": [
    "order_items = Table('order_items', meta,\n",
    "                    Column('id', Integer, primary_key = True),\n",
    "                    Column('order_id', Integer, unique = True),\n",
    "                    Column('order_item_id', Integer),\n",
    "                    Column('product_id', String),\n",
    "                    Column('seller_id', String),\n",
    "                    Column('shipping_limit_date', DateTime),\n",
    "                    Column('price', Float),\n",
    "                    Column('freight_value', Float))\n",
    "\n",
    "meta.create_all(engine)"
   ],
   "metadata": {
    "collapsed": false
   }
  },
  {
   "cell_type": "code",
   "execution_count": 13,
   "outputs": [
    {
     "name": "stdout",
     "output_type": "stream",
     "text": [
      "2022-12-13 02:58:54,222 INFO sqlalchemy.engine.Engine BEGIN (implicit)\n",
      "2022-12-13 02:58:54,225 INFO sqlalchemy.engine.Engine select relname from pg_class c join pg_namespace n on n.oid=c.relnamespace where pg_catalog.pg_table_is_visible(c.oid) and relname=%(name)s\n",
      "2022-12-13 02:58:54,227 INFO sqlalchemy.engine.Engine [cached since 575.1s ago] {'name': 'order_items'}\n",
      "2022-12-13 02:58:54,244 INFO sqlalchemy.engine.Engine select relname from pg_class c join pg_namespace n on n.oid=c.relnamespace where pg_catalog.pg_table_is_visible(c.oid) and relname=%(name)s\n",
      "2022-12-13 02:58:54,245 INFO sqlalchemy.engine.Engine [cached since 575.2s ago] {'name': 'order_payments'}\n",
      "2022-12-13 02:58:54,249 INFO sqlalchemy.engine.Engine \n",
      "CREATE TABLE order_payments (\n",
      "\tid SERIAL NOT NULL, \n",
      "\torder_id INTEGER, \n",
      "\tpayment_sequential INTEGER, \n",
      "\tpayment_type VARCHAR, \n",
      "\tpayment_installments INTEGER, \n",
      "\tpayment_value FLOAT, \n",
      "\tPRIMARY KEY (id), \n",
      "\tUNIQUE (order_id)\n",
      ")\n",
      "\n",
      "\n",
      "2022-12-13 02:58:54,250 INFO sqlalchemy.engine.Engine [no key 0.00102s] {}\n",
      "2022-12-13 02:58:54,302 INFO sqlalchemy.engine.Engine COMMIT\n"
     ]
    }
   ],
   "source": [
    "order_payments = Table('order_payments', meta,\n",
    "                       Column('id', Integer, primary_key = True),\n",
    "                       Column('order_id', Integer, unique = True),\n",
    "                       Column('payment_sequential', Integer),\n",
    "                       Column('payment_type', String),\n",
    "                       Column('payment_installments', Integer),\n",
    "                       Column('payment_value', Float))\n",
    "\n",
    "meta.create_all(engine)"
   ],
   "metadata": {
    "collapsed": false
   }
  },
  {
   "cell_type": "code",
   "execution_count": 3,
   "outputs": [
    {
     "name": "stdout",
     "output_type": "stream",
     "text": [
      "2022-12-14 06:29:41,910 INFO sqlalchemy.engine.Engine select pg_catalog.version()\n",
      "2022-12-14 06:29:41,927 INFO sqlalchemy.engine.Engine [raw sql] {}\n",
      "2022-12-14 06:29:41,962 INFO sqlalchemy.engine.Engine select current_schema()\n",
      "2022-12-14 06:29:41,963 INFO sqlalchemy.engine.Engine [raw sql] {}\n",
      "2022-12-14 06:29:42,001 INFO sqlalchemy.engine.Engine show standard_conforming_strings\n",
      "2022-12-14 06:29:42,002 INFO sqlalchemy.engine.Engine [raw sql] {}\n",
      "2022-12-14 06:29:42,004 INFO sqlalchemy.engine.Engine BEGIN (implicit)\n",
      "2022-12-14 06:29:42,007 INFO sqlalchemy.engine.Engine select relname from pg_class c join pg_namespace n on n.oid=c.relnamespace where pg_catalog.pg_table_is_visible(c.oid) and relname=%(name)s\n",
      "2022-12-14 06:29:42,008 INFO sqlalchemy.engine.Engine [generated in 0.00117s] {'name': 'order_reviews'}\n",
      "2022-12-14 06:29:42,014 INFO sqlalchemy.engine.Engine \n",
      "CREATE TABLE order_reviews (\n",
      "\tid SERIAL NOT NULL, \n",
      "\treview_id VARCHAR, \n",
      "\torder_id VARCHAR, \n",
      "\treview_score INTEGER, \n",
      "\treview_comment_title VARCHAR, \n",
      "\treview_comment_message VARCHAR, \n",
      "\treview_creation_date TIMESTAMP WITHOUT TIME ZONE, \n",
      "\treview_answer_timestamp TIMESTAMP WITHOUT TIME ZONE, \n",
      "\tPRIMARY KEY (id), \n",
      "\tUNIQUE (review_id)\n",
      ")\n",
      "\n",
      "\n",
      "2022-12-14 06:29:42,016 INFO sqlalchemy.engine.Engine [no key 0.00167s] {}\n",
      "2022-12-14 06:29:42,189 INFO sqlalchemy.engine.Engine COMMIT\n"
     ]
    }
   ],
   "source": [
    "order_reviews = Table('order_reviews', meta,\n",
    "                      Column('id', Integer, primary_key = True),\n",
    "                      Column('review_id', String, unique = True),\n",
    "                      Column('order_id', String),\n",
    "                      Column('review_score', Integer),\n",
    "                      Column('review_comment_title', String),\n",
    "                      Column('review_comment_message', String),\n",
    "                      Column('review_creation_date', DateTime),\n",
    "                      Column('review_answer_timestamp', DateTime))\n",
    "\n",
    "meta.create_all(engine)"
   ],
   "metadata": {
    "collapsed": false
   }
  },
  {
   "cell_type": "code",
   "execution_count": 4,
   "outputs": [
    {
     "name": "stdout",
     "output_type": "stream",
     "text": [
      "2022-12-14 06:42:23,991 INFO sqlalchemy.engine.Engine BEGIN (implicit)\n",
      "2022-12-14 06:42:23,993 INFO sqlalchemy.engine.Engine select relname from pg_class c join pg_namespace n on n.oid=c.relnamespace where pg_catalog.pg_table_is_visible(c.oid) and relname=%(name)s\n",
      "2022-12-14 06:42:23,995 INFO sqlalchemy.engine.Engine [cached since 762s ago] {'name': 'order_reviews'}\n",
      "2022-12-14 06:42:23,998 INFO sqlalchemy.engine.Engine select relname from pg_class c join pg_namespace n on n.oid=c.relnamespace where pg_catalog.pg_table_is_visible(c.oid) and relname=%(name)s\n",
      "2022-12-14 06:42:23,999 INFO sqlalchemy.engine.Engine [cached since 762s ago] {'name': 'orders'}\n",
      "2022-12-14 06:42:24,002 INFO sqlalchemy.engine.Engine \n",
      "CREATE TABLE orders (\n",
      "\tid SERIAL NOT NULL, \n",
      "\torder_id VARCHAR, \n",
      "\tcustomer_id VARCHAR, \n",
      "\torder_status VARCHAR, \n",
      "\torder_purchase_timestamp TIMESTAMP WITHOUT TIME ZONE, \n",
      "\torder_approved_at TIMESTAMP WITHOUT TIME ZONE, \n",
      "\torder_delivered_carrier_date TIMESTAMP WITHOUT TIME ZONE, \n",
      "\torder_delivered_customer_date TIMESTAMP WITHOUT TIME ZONE, \n",
      "\torder_estimated_delivered_date TIMESTAMP WITHOUT TIME ZONE, \n",
      "\tPRIMARY KEY (id), \n",
      "\tUNIQUE (order_id)\n",
      ")\n",
      "\n",
      "\n",
      "2022-12-14 06:42:24,004 INFO sqlalchemy.engine.Engine [no key 0.00173s] {}\n",
      "2022-12-14 06:42:24,061 INFO sqlalchemy.engine.Engine COMMIT\n"
     ]
    }
   ],
   "source": [
    "orders = Table('orders', meta,\n",
    "               Column('id', Integer, primary_key = True),\n",
    "               Column('order_id', String, unique = True),\n",
    "               Column('customer_id', String),\n",
    "               Column('order_status', String),\n",
    "               Column('order_purchase_timestamp', DateTime),\n",
    "               Column('order_approved_at', DateTime),\n",
    "               Column('order_delivered_carrier_date', DateTime),\n",
    "               Column('order_delivered_customer_date', DateTime),\n",
    "               Column('order_estimated_delivered_date', DateTime))\n",
    "\n",
    "meta.create_all(engine)"
   ],
   "metadata": {
    "collapsed": false
   }
  },
  {
   "cell_type": "code",
   "execution_count": 5,
   "outputs": [
    {
     "name": "stdout",
     "output_type": "stream",
     "text": [
      "2022-12-14 06:47:09,812 INFO sqlalchemy.engine.Engine BEGIN (implicit)\n",
      "2022-12-14 06:47:09,814 INFO sqlalchemy.engine.Engine select relname from pg_class c join pg_namespace n on n.oid=c.relnamespace where pg_catalog.pg_table_is_visible(c.oid) and relname=%(name)s\n",
      "2022-12-14 06:47:09,816 INFO sqlalchemy.engine.Engine [cached since 1048s ago] {'name': 'order_reviews'}\n",
      "2022-12-14 06:47:09,819 INFO sqlalchemy.engine.Engine select relname from pg_class c join pg_namespace n on n.oid=c.relnamespace where pg_catalog.pg_table_is_visible(c.oid) and relname=%(name)s\n",
      "2022-12-14 06:47:09,820 INFO sqlalchemy.engine.Engine [cached since 1048s ago] {'name': 'orders'}\n",
      "2022-12-14 06:47:09,823 INFO sqlalchemy.engine.Engine select relname from pg_class c join pg_namespace n on n.oid=c.relnamespace where pg_catalog.pg_table_is_visible(c.oid) and relname=%(name)s\n",
      "2022-12-14 06:47:09,825 INFO sqlalchemy.engine.Engine [cached since 1048s ago] {'name': 'product_category_name_translation'}\n",
      "2022-12-14 06:47:09,829 INFO sqlalchemy.engine.Engine \n",
      "CREATE TABLE product_category_name_translation (\n",
      "\tid SERIAL NOT NULL, \n",
      "\tproduct_category_name VARCHAR, \n",
      "\tproduct_category_name_english VARCHAR, \n",
      "\tPRIMARY KEY (id), \n",
      "\tUNIQUE (product_category_name), \n",
      "\tUNIQUE (product_category_name_english)\n",
      ")\n",
      "\n",
      "\n",
      "2022-12-14 06:47:09,830 INFO sqlalchemy.engine.Engine [no key 0.00141s] {}\n",
      "2022-12-14 06:47:09,880 INFO sqlalchemy.engine.Engine COMMIT\n"
     ]
    }
   ],
   "source": [
    "product_category_name_translation = Table('product_category_name_translation', meta,\n",
    "                                          Column('id', Integer, primary_key = True),\n",
    "                                          Column('product_category_name', String, unique = True),\n",
    "                                          Column('product_category_name_english', String, unique = True))\n",
    "\n",
    "meta.create_all(engine)"
   ],
   "metadata": {
    "collapsed": false
   }
  },
  {
   "cell_type": "code",
   "execution_count": 6,
   "outputs": [
    {
     "name": "stdout",
     "output_type": "stream",
     "text": [
      "2022-12-14 06:54:27,411 INFO sqlalchemy.engine.Engine BEGIN (implicit)\n",
      "2022-12-14 06:54:27,413 INFO sqlalchemy.engine.Engine select relname from pg_class c join pg_namespace n on n.oid=c.relnamespace where pg_catalog.pg_table_is_visible(c.oid) and relname=%(name)s\n",
      "2022-12-14 06:54:27,414 INFO sqlalchemy.engine.Engine [cached since 1485s ago] {'name': 'order_reviews'}\n",
      "2022-12-14 06:54:27,417 INFO sqlalchemy.engine.Engine select relname from pg_class c join pg_namespace n on n.oid=c.relnamespace where pg_catalog.pg_table_is_visible(c.oid) and relname=%(name)s\n",
      "2022-12-14 06:54:27,418 INFO sqlalchemy.engine.Engine [cached since 1485s ago] {'name': 'orders'}\n",
      "2022-12-14 06:54:27,422 INFO sqlalchemy.engine.Engine select relname from pg_class c join pg_namespace n on n.oid=c.relnamespace where pg_catalog.pg_table_is_visible(c.oid) and relname=%(name)s\n",
      "2022-12-14 06:54:27,423 INFO sqlalchemy.engine.Engine [cached since 1485s ago] {'name': 'product_category_name_translation'}\n",
      "2022-12-14 06:54:27,426 INFO sqlalchemy.engine.Engine select relname from pg_class c join pg_namespace n on n.oid=c.relnamespace where pg_catalog.pg_table_is_visible(c.oid) and relname=%(name)s\n",
      "2022-12-14 06:54:27,427 INFO sqlalchemy.engine.Engine [cached since 1485s ago] {'name': 'products'}\n",
      "2022-12-14 06:54:27,429 INFO sqlalchemy.engine.Engine \n",
      "CREATE TABLE products (\n",
      "\tid SERIAL NOT NULL, \n",
      "\tproduct_id VARCHAR, \n",
      "\tproduct_category_name VARCHAR, \n",
      "\tproduct_name_length INTEGER, \n",
      "\tproduct_description_length INTEGER, \n",
      "\tproduct_photos_qty INTEGER, \n",
      "\tproduct_weight_g INTEGER, \n",
      "\tproduct_length_cm INTEGER, \n",
      "\tproduct_height_cm INTEGER, \n",
      "\tproduct_width_cm INTEGER, \n",
      "\tPRIMARY KEY (id), \n",
      "\tUNIQUE (product_id)\n",
      ")\n",
      "\n",
      "\n",
      "2022-12-14 06:54:27,430 INFO sqlalchemy.engine.Engine [no key 0.00108s] {}\n",
      "2022-12-14 06:54:27,477 INFO sqlalchemy.engine.Engine COMMIT\n"
     ]
    }
   ],
   "source": [
    "products = Table('products', meta,\n",
    "                 Column('id', Integer, primary_key = True),\n",
    "                 Column('product_id', String, unique = True),\n",
    "                 Column('product_category_name', String),\n",
    "                 Column('product_name_length', Integer),\n",
    "                 Column('product_description_length', Integer),\n",
    "                 Column('product_photos_qty', Integer),\n",
    "                 Column('product_weight_g', Integer),\n",
    "                 Column('product_length_cm', Integer),\n",
    "                 Column('product_height_cm', Integer),\n",
    "                 Column('product_width_cm', Integer))\n",
    "\n",
    "meta.create_all(engine)"
   ],
   "metadata": {
    "collapsed": false
   }
  },
  {
   "cell_type": "code",
   "execution_count": 7,
   "outputs": [
    {
     "name": "stdout",
     "output_type": "stream",
     "text": [
      "2022-12-14 06:57:07,691 INFO sqlalchemy.engine.Engine BEGIN (implicit)\n",
      "2022-12-14 06:57:07,694 INFO sqlalchemy.engine.Engine select relname from pg_class c join pg_namespace n on n.oid=c.relnamespace where pg_catalog.pg_table_is_visible(c.oid) and relname=%(name)s\n",
      "2022-12-14 06:57:07,695 INFO sqlalchemy.engine.Engine [cached since 1646s ago] {'name': 'order_reviews'}\n",
      "2022-12-14 06:57:07,699 INFO sqlalchemy.engine.Engine select relname from pg_class c join pg_namespace n on n.oid=c.relnamespace where pg_catalog.pg_table_is_visible(c.oid) and relname=%(name)s\n",
      "2022-12-14 06:57:07,700 INFO sqlalchemy.engine.Engine [cached since 1646s ago] {'name': 'orders'}\n",
      "2022-12-14 06:57:07,705 INFO sqlalchemy.engine.Engine select relname from pg_class c join pg_namespace n on n.oid=c.relnamespace where pg_catalog.pg_table_is_visible(c.oid) and relname=%(name)s\n",
      "2022-12-14 06:57:07,706 INFO sqlalchemy.engine.Engine [cached since 1646s ago] {'name': 'product_category_name_translation'}\n",
      "2022-12-14 06:57:07,709 INFO sqlalchemy.engine.Engine select relname from pg_class c join pg_namespace n on n.oid=c.relnamespace where pg_catalog.pg_table_is_visible(c.oid) and relname=%(name)s\n",
      "2022-12-14 06:57:07,711 INFO sqlalchemy.engine.Engine [cached since 1646s ago] {'name': 'products'}\n",
      "2022-12-14 06:57:07,713 INFO sqlalchemy.engine.Engine select relname from pg_class c join pg_namespace n on n.oid=c.relnamespace where pg_catalog.pg_table_is_visible(c.oid) and relname=%(name)s\n",
      "2022-12-14 06:57:07,714 INFO sqlalchemy.engine.Engine [cached since 1646s ago] {'name': 'sellers'}\n",
      "2022-12-14 06:57:07,718 INFO sqlalchemy.engine.Engine \n",
      "CREATE TABLE sellers (\n",
      "\tid SERIAL NOT NULL, \n",
      "\tseller_id VARCHAR, \n",
      "\tseller_zip_code_prefix INTEGER, \n",
      "\tseller_city VARCHAR, \n",
      "\tseller_state VARCHAR, \n",
      "\tPRIMARY KEY (id), \n",
      "\tUNIQUE (seller_id)\n",
      ")\n",
      "\n",
      "\n",
      "2022-12-14 06:57:07,719 INFO sqlalchemy.engine.Engine [no key 0.00115s] {}\n",
      "2022-12-14 06:57:07,726 INFO sqlalchemy.engine.Engine COMMIT\n"
     ]
    }
   ],
   "source": [
    "sellers = Table('sellers', meta,\n",
    "                Column('id', Integer, primary_key = True),\n",
    "                Column('seller_id', String, unique = True),\n",
    "                Column('seller_zip_code_prefix', Integer),\n",
    "                Column('seller_city', String),\n",
    "                Column('seller_state', String))\n",
    "\n",
    "meta.create_all(engine)"
   ],
   "metadata": {
    "collapsed": false
   }
  }
 ],
 "metadata": {
  "kernelspec": {
   "display_name": "Python 3",
   "language": "python",
   "name": "python3"
  },
  "language_info": {
   "codemirror_mode": {
    "name": "ipython",
    "version": 2
   },
   "file_extension": ".py",
   "mimetype": "text/x-python",
   "name": "python",
   "nbconvert_exporter": "python",
   "pygments_lexer": "ipython2",
   "version": "2.7.6"
  }
 },
 "nbformat": 4,
 "nbformat_minor": 0
}
