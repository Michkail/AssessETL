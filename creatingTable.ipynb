{
 "cells": [
  {
   "cell_type": "code",
   "execution_count": 6,
   "outputs": [
    {
     "name": "stdout",
     "output_type": "stream",
     "text": [
      "2022-12-13 02:08:07,339 INFO sqlalchemy.engine.Engine select pg_catalog.version()\n",
      "2022-12-13 02:08:07,339 INFO sqlalchemy.engine.Engine [raw sql] {}\n",
      "2022-12-13 02:08:07,340 INFO sqlalchemy.engine.Engine select current_schema()\n",
      "2022-12-13 02:08:07,341 INFO sqlalchemy.engine.Engine [raw sql] {}\n",
      "2022-12-13 02:08:07,343 INFO sqlalchemy.engine.Engine show standard_conforming_strings\n",
      "2022-12-13 02:08:07,344 INFO sqlalchemy.engine.Engine [raw sql] {}\n",
      "2022-12-13 02:08:07,345 INFO sqlalchemy.engine.Engine BEGIN (implicit)\n",
      "2022-12-13 02:08:07,347 INFO sqlalchemy.engine.Engine select relname from pg_class c join pg_namespace n on n.oid=c.relnamespace where pg_catalog.pg_table_is_visible(c.oid) and relname=%(name)s\n",
      "2022-12-13 02:08:07,348 INFO sqlalchemy.engine.Engine [generated in 0.00118s] {'name': 'customers'}\n",
      "2022-12-13 02:08:07,355 INFO sqlalchemy.engine.Engine \n",
      "CREATE TABLE customers (\n",
      "\tid SERIAL NOT NULL, \n",
      "\tcustomer_id VARCHAR, \n",
      "\tcustomer_unique_id VARCHAR, \n",
      "\tcustomer_zip_code_prefix INTEGER, \n",
      "\tcustomer_city VARCHAR, \n",
      "\tcustomer_state VARCHAR, \n",
      "\tPRIMARY KEY (id), \n",
      "\tUNIQUE (customer_id), \n",
      "\tUNIQUE (customer_unique_id)\n",
      ")\n",
      "\n",
      "\n",
      "2022-12-13 02:08:07,356 INFO sqlalchemy.engine.Engine [no key 0.00085s] {}\n",
      "2022-12-13 02:08:07,411 INFO sqlalchemy.engine.Engine COMMIT\n"
     ]
    }
   ],
   "source": [
    "from sqlalchemy import (create_engine, Column, Integer,\n",
    "                        MetaData, String, Table, UniqueConstraint)\n",
    "import psycopg2\n",
    "\n",
    "\n",
    "engine = create_engine('postgresql+psycopg2://macbook:@localhost:5432/assess_etl', echo = True)\n",
    "meta = MetaData()\n",
    "\n",
    "customers = Table('customers', meta,\n",
    "                  Column('id', Integer, primary_key = True),\n",
    "                  Column('customer_id', String, unique = True),\n",
    "                  Column('customer_unique_id', String, unique = True),\n",
    "                  Column('customer_zip_code_prefix', Integer),\n",
    "                  Column('customer_city', String),\n",
    "                  Column('customer_state', String))\n",
    "\n",
    "meta.create_all(engine)"
   ],
   "metadata": {
    "collapsed": false
   }
  }
 ],
 "metadata": {
  "kernelspec": {
   "display_name": "Python 3",
   "language": "python",
   "name": "python3"
  },
  "language_info": {
   "codemirror_mode": {
    "name": "ipython",
    "version": 2
   },
   "file_extension": ".py",
   "mimetype": "text/x-python",
   "name": "python",
   "nbconvert_exporter": "python",
   "pygments_lexer": "ipython2",
   "version": "2.7.6"
  }
 },
 "nbformat": 4,
 "nbformat_minor": 0
}
