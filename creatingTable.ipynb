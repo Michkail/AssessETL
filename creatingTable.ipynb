{
 "cells": [
  {
   "cell_type": "code",
   "execution_count": 11,
   "outputs": [],
   "source": [
    "from sqlalchemy import (create_engine, Column, DateTime, Float,\n",
    "                        Integer, MetaData, String, Table)\n",
    "import psycopg2\n",
    "\n",
    "\n",
    "engine = create_engine('postgresql+psycopg2://macbook:@localhost:5432/assess_etl', echo = True)\n",
    "meta = MetaData()"
   ],
   "metadata": {
    "collapsed": false
   }
  },
  {
   "cell_type": "code",
   "execution_count": 9,
   "outputs": [
    {
     "name": "stdout",
     "output_type": "stream",
     "text": [
      "2022-12-13 02:31:59,522 INFO sqlalchemy.engine.Engine select pg_catalog.version()\n",
      "2022-12-13 02:31:59,524 INFO sqlalchemy.engine.Engine [raw sql] {}\n",
      "2022-12-13 02:31:59,528 INFO sqlalchemy.engine.Engine select current_schema()\n",
      "2022-12-13 02:31:59,529 INFO sqlalchemy.engine.Engine [raw sql] {}\n",
      "2022-12-13 02:31:59,531 INFO sqlalchemy.engine.Engine show standard_conforming_strings\n",
      "2022-12-13 02:31:59,532 INFO sqlalchemy.engine.Engine [raw sql] {}\n",
      "2022-12-13 02:31:59,534 INFO sqlalchemy.engine.Engine BEGIN (implicit)\n",
      "2022-12-13 02:31:59,537 INFO sqlalchemy.engine.Engine select relname from pg_class c join pg_namespace n on n.oid=c.relnamespace where pg_catalog.pg_table_is_visible(c.oid) and relname=%(name)s\n",
      "2022-12-13 02:31:59,538 INFO sqlalchemy.engine.Engine [generated in 0.00147s] {'name': 'customers'}\n",
      "2022-12-13 02:31:59,544 INFO sqlalchemy.engine.Engine \n",
      "CREATE TABLE customers (\n",
      "\tid SERIAL NOT NULL, \n",
      "\tcustomer_id VARCHAR, \n",
      "\tcustomer_unique_id VARCHAR, \n",
      "\tcustomer_zip_code_prefix INTEGER, \n",
      "\tcustomer_city VARCHAR, \n",
      "\tcustomer_state VARCHAR, \n",
      "\tPRIMARY KEY (id), \n",
      "\tUNIQUE (customer_id), \n",
      "\tUNIQUE (customer_unique_id)\n",
      ")\n",
      "\n",
      "\n",
      "2022-12-13 02:31:59,545 INFO sqlalchemy.engine.Engine [no key 0.00109s] {}\n",
      "2022-12-13 02:31:59,594 INFO sqlalchemy.engine.Engine COMMIT\n"
     ]
    }
   ],
   "source": [
    "customers = Table('customers', meta,\n",
    "                  Column('id', Integer, primary_key = True),\n",
    "                  Column('customer_id', String, unique = True),\n",
    "                  Column('customer_unique_id', String, unique = True),\n",
    "                  Column('customer_zip_code_prefix', Integer),\n",
    "                  Column('customer_city', String),\n",
    "                  Column('customer_state', String))\n",
    "\n",
    "meta.create_all(engine)"
   ],
   "metadata": {
    "collapsed": false
   }
  },
  {
   "cell_type": "code",
   "execution_count": 10,
   "outputs": [
    {
     "name": "stdout",
     "output_type": "stream",
     "text": [
      "2022-12-13 02:33:52,983 INFO sqlalchemy.engine.Engine BEGIN (implicit)\n",
      "2022-12-13 02:33:52,984 INFO sqlalchemy.engine.Engine select relname from pg_class c join pg_namespace n on n.oid=c.relnamespace where pg_catalog.pg_table_is_visible(c.oid) and relname=%(name)s\n",
      "2022-12-13 02:33:52,986 INFO sqlalchemy.engine.Engine [cached since 113.4s ago] {'name': 'customers'}\n",
      "2022-12-13 02:33:52,990 INFO sqlalchemy.engine.Engine select relname from pg_class c join pg_namespace n on n.oid=c.relnamespace where pg_catalog.pg_table_is_visible(c.oid) and relname=%(name)s\n",
      "2022-12-13 02:33:52,991 INFO sqlalchemy.engine.Engine [cached since 113.5s ago] {'name': 'geolocation'}\n",
      "2022-12-13 02:33:52,998 INFO sqlalchemy.engine.Engine \n",
      "CREATE TABLE geolocation (\n",
      "\tid SERIAL NOT NULL, \n",
      "\tgeolocation_zip_code_prefix INTEGER, \n",
      "\tgeolocation_lat FLOAT, \n",
      "\tgeolocation_lng FLOAT, \n",
      "\tgeolocation_city VARCHAR, \n",
      "\tgeolocation_state VARCHAR, \n",
      "\tPRIMARY KEY (id)\n",
      ")\n",
      "\n",
      "\n",
      "2022-12-13 02:33:52,999 INFO sqlalchemy.engine.Engine [no key 0.00098s] {}\n",
      "2022-12-13 02:33:53,054 INFO sqlalchemy.engine.Engine COMMIT\n"
     ]
    }
   ],
   "source": [
    "geolocation = Table('geolocation', meta,\n",
    "                    Column('id', Integer, primary_key = True),\n",
    "                    Column('geolocation_zip_code_prefix', Integer),\n",
    "                    Column('geolocation_lat', Float),\n",
    "                    Column('geolocation_lng', Float),\n",
    "                    Column('geolocation_city', String),\n",
    "                    Column('geolocation_state', String))\n",
    "\n",
    "meta.create_all(engine)"
   ],
   "metadata": {
    "collapsed": false
   }
  },
  {
   "cell_type": "code",
   "execution_count": 12,
   "outputs": [
    {
     "name": "stdout",
     "output_type": "stream",
     "text": [
      "2022-12-13 02:49:19,064 INFO sqlalchemy.engine.Engine select pg_catalog.version()\n",
      "2022-12-13 02:49:19,065 INFO sqlalchemy.engine.Engine [raw sql] {}\n",
      "2022-12-13 02:49:19,068 INFO sqlalchemy.engine.Engine select current_schema()\n",
      "2022-12-13 02:49:19,069 INFO sqlalchemy.engine.Engine [raw sql] {}\n",
      "2022-12-13 02:49:19,071 INFO sqlalchemy.engine.Engine show standard_conforming_strings\n",
      "2022-12-13 02:49:19,072 INFO sqlalchemy.engine.Engine [raw sql] {}\n",
      "2022-12-13 02:49:19,074 INFO sqlalchemy.engine.Engine BEGIN (implicit)\n",
      "2022-12-13 02:49:19,077 INFO sqlalchemy.engine.Engine select relname from pg_class c join pg_namespace n on n.oid=c.relnamespace where pg_catalog.pg_table_is_visible(c.oid) and relname=%(name)s\n",
      "2022-12-13 02:49:19,078 INFO sqlalchemy.engine.Engine [generated in 0.00129s] {'name': 'order_items'}\n",
      "2022-12-13 02:49:19,165 INFO sqlalchemy.engine.Engine \n",
      "CREATE TABLE order_items (\n",
      "\tid SERIAL NOT NULL, \n",
      "\torder_id INTEGER, \n",
      "\torder_item_id INTEGER, \n",
      "\tproduct_id VARCHAR, \n",
      "\tseller_id VARCHAR, \n",
      "\tshipping_limit_date TIMESTAMP WITHOUT TIME ZONE, \n",
      "\tprice FLOAT, \n",
      "\tfreight_value FLOAT, \n",
      "\tPRIMARY KEY (id), \n",
      "\tUNIQUE (order_id)\n",
      ")\n",
      "\n",
      "\n",
      "2022-12-13 02:49:19,166 INFO sqlalchemy.engine.Engine [no key 0.00076s] {}\n",
      "2022-12-13 02:49:19,269 INFO sqlalchemy.engine.Engine COMMIT\n"
     ]
    }
   ],
   "source": [
    "order_items = Table('order_items', meta,\n",
    "                    Column('id', Integer, primary_key = True),\n",
    "                    Column('order_id', Integer, unique = True),\n",
    "                    Column('order_item_id', Integer),\n",
    "                    Column('product_id', String),\n",
    "                    Column('seller_id', String),\n",
    "                    Column('shipping_limit_date', DateTime),\n",
    "                    Column('price', Float),\n",
    "                    Column('freight_value', Float))\n",
    "\n",
    "meta.create_all(engine)"
   ],
   "metadata": {
    "collapsed": false
   }
  },
  {
   "cell_type": "code",
   "execution_count": 13,
   "outputs": [
    {
     "name": "stdout",
     "output_type": "stream",
     "text": [
      "2022-12-13 02:58:54,222 INFO sqlalchemy.engine.Engine BEGIN (implicit)\n",
      "2022-12-13 02:58:54,225 INFO sqlalchemy.engine.Engine select relname from pg_class c join pg_namespace n on n.oid=c.relnamespace where pg_catalog.pg_table_is_visible(c.oid) and relname=%(name)s\n",
      "2022-12-13 02:58:54,227 INFO sqlalchemy.engine.Engine [cached since 575.1s ago] {'name': 'order_items'}\n",
      "2022-12-13 02:58:54,244 INFO sqlalchemy.engine.Engine select relname from pg_class c join pg_namespace n on n.oid=c.relnamespace where pg_catalog.pg_table_is_visible(c.oid) and relname=%(name)s\n",
      "2022-12-13 02:58:54,245 INFO sqlalchemy.engine.Engine [cached since 575.2s ago] {'name': 'order_payments'}\n",
      "2022-12-13 02:58:54,249 INFO sqlalchemy.engine.Engine \n",
      "CREATE TABLE order_payments (\n",
      "\tid SERIAL NOT NULL, \n",
      "\torder_id INTEGER, \n",
      "\tpayment_sequential INTEGER, \n",
      "\tpayment_type VARCHAR, \n",
      "\tpayment_installments INTEGER, \n",
      "\tpayment_value FLOAT, \n",
      "\tPRIMARY KEY (id), \n",
      "\tUNIQUE (order_id)\n",
      ")\n",
      "\n",
      "\n",
      "2022-12-13 02:58:54,250 INFO sqlalchemy.engine.Engine [no key 0.00102s] {}\n",
      "2022-12-13 02:58:54,302 INFO sqlalchemy.engine.Engine COMMIT\n"
     ]
    }
   ],
   "source": [
    "order_payments = Table('order_payments', meta,\n",
    "                       Column('id', Integer, primary_key = True),\n",
    "                       Column('order_id', Integer, unique = True),\n",
    "                       Column('payment_sequential', Integer),\n",
    "                       Column('payment_type', String),\n",
    "                       Column('payment_installments', Integer),\n",
    "                       Column('payment_value', Float))\n",
    "\n",
    "meta.create_all(engine)"
   ],
   "metadata": {
    "collapsed": false
   }
  },
  {
   "cell_type": "code",
   "execution_count": null,
   "outputs": [],
   "source": [
    "order_reviews = Table('order_reviews', meta,\n",
    "                      Column('id', Integer, primary_key = True),\n",
    "                      Column('review_id', String, unique = True),\n",
    "                      Column('order_id', String),\n",
    "                      Column('review_score', Integer),\n",
    "                      Column('review_comment_title', String),\n",
    "                      Column('review_comment_message', String),\n",
    "                      Column('review_creation_date', DateTime),\n",
    "                      Column('review_answer_timestamp', DateTime))\n",
    "\n",
    "meta.create_all(engine)"
   ],
   "metadata": {
    "collapsed": false
   }
  }
 ],
 "metadata": {
  "kernelspec": {
   "display_name": "Python 3",
   "language": "python",
   "name": "python3"
  },
  "language_info": {
   "codemirror_mode": {
    "name": "ipython",
    "version": 2
   },
   "file_extension": ".py",
   "mimetype": "text/x-python",
   "name": "python",
   "nbconvert_exporter": "python",
   "pygments_lexer": "ipython2",
   "version": "2.7.6"
  }
 },
 "nbformat": 4,
 "nbformat_minor": 0
}
