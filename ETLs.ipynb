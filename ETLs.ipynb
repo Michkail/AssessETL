{
 "cells": [
  {
   "cell_type": "code",
   "execution_count": 9,
   "metadata": {
    "collapsed": true
   },
   "outputs": [
    {
     "name": "stdout",
     "output_type": "stream",
     "text": [
      "customer_id object\n",
      "customer_unique_id object\n",
      "customer_zip_code_prefix int64\n",
      "customer_city object\n",
      "customer_state object\n"
     ]
    },
    {
     "data": {
      "text/plain": "                            customer_id                customer_unique_id  \\\n0      06b8999e2fba1a1fbc88172c00ba8bc7  861eff4711a542e4b93843c6dd7febb0   \n1      18955e83d337fd6b2def6b18a428ac77  290c77bc529b7ac935b93aa66c333dc3   \n2      4e7b3e00288586ebd08712fdd0374a03  060e732b5b29e8181a18229c7b0b2b5e   \n3      b2b6027bc5c5109e529d4dc6358b12c3  259dac757896d24d7702b9acbbff3f3c   \n4      4f2d8ab171c80ec8364f7c12e35b23ad  345ecd01c38d18a9036ed96c73b8d066   \n...                                 ...                               ...   \n99436  17ddf5dd5d51696bb3d7c6291687be6f  1a29b476fee25c95fbafc67c5ac95cf8   \n99437  e7b71a9017aa05c9a7fd292d714858e8  d52a67c98be1cf6a5c84435bd38d095d   \n99438  5e28dfe12db7fb50a4b2f691faecea5e  e9f50caf99f032f0bf3c55141f019d99   \n99439  56b18e2166679b8a959d72dd06da27f9  73c2643a0a458b49f58cea58833b192e   \n99440  274fa6071e5e17fe303b9748641082c8  84732c5050c01db9b23e19ba39899398   \n\n       customer_zip_code_prefix          customer_city customer_state  \n0                         14409                 franca             SP  \n1                          9790  sao bernardo do campo             SP  \n2                          1151              sao paulo             SP  \n3                          8775        mogi das cruzes             SP  \n4                         13056               campinas             SP  \n...                         ...                    ...            ...  \n99436                      3937              sao paulo             SP  \n99437                      6764        taboao da serra             SP  \n99438                     60115              fortaleza             CE  \n99439                     92120                 canoas             RS  \n99440                      6703                  cotia             SP  \n\n[99441 rows x 5 columns]",
      "text/html": "<div>\n<style scoped>\n    .dataframe tbody tr th:only-of-type {\n        vertical-align: middle;\n    }\n\n    .dataframe tbody tr th {\n        vertical-align: top;\n    }\n\n    .dataframe thead th {\n        text-align: right;\n    }\n</style>\n<table border=\"1\" class=\"dataframe\">\n  <thead>\n    <tr style=\"text-align: right;\">\n      <th></th>\n      <th>customer_id</th>\n      <th>customer_unique_id</th>\n      <th>customer_zip_code_prefix</th>\n      <th>customer_city</th>\n      <th>customer_state</th>\n    </tr>\n  </thead>\n  <tbody>\n    <tr>\n      <th>0</th>\n      <td>06b8999e2fba1a1fbc88172c00ba8bc7</td>\n      <td>861eff4711a542e4b93843c6dd7febb0</td>\n      <td>14409</td>\n      <td>franca</td>\n      <td>SP</td>\n    </tr>\n    <tr>\n      <th>1</th>\n      <td>18955e83d337fd6b2def6b18a428ac77</td>\n      <td>290c77bc529b7ac935b93aa66c333dc3</td>\n      <td>9790</td>\n      <td>sao bernardo do campo</td>\n      <td>SP</td>\n    </tr>\n    <tr>\n      <th>2</th>\n      <td>4e7b3e00288586ebd08712fdd0374a03</td>\n      <td>060e732b5b29e8181a18229c7b0b2b5e</td>\n      <td>1151</td>\n      <td>sao paulo</td>\n      <td>SP</td>\n    </tr>\n    <tr>\n      <th>3</th>\n      <td>b2b6027bc5c5109e529d4dc6358b12c3</td>\n      <td>259dac757896d24d7702b9acbbff3f3c</td>\n      <td>8775</td>\n      <td>mogi das cruzes</td>\n      <td>SP</td>\n    </tr>\n    <tr>\n      <th>4</th>\n      <td>4f2d8ab171c80ec8364f7c12e35b23ad</td>\n      <td>345ecd01c38d18a9036ed96c73b8d066</td>\n      <td>13056</td>\n      <td>campinas</td>\n      <td>SP</td>\n    </tr>\n    <tr>\n      <th>...</th>\n      <td>...</td>\n      <td>...</td>\n      <td>...</td>\n      <td>...</td>\n      <td>...</td>\n    </tr>\n    <tr>\n      <th>99436</th>\n      <td>17ddf5dd5d51696bb3d7c6291687be6f</td>\n      <td>1a29b476fee25c95fbafc67c5ac95cf8</td>\n      <td>3937</td>\n      <td>sao paulo</td>\n      <td>SP</td>\n    </tr>\n    <tr>\n      <th>99437</th>\n      <td>e7b71a9017aa05c9a7fd292d714858e8</td>\n      <td>d52a67c98be1cf6a5c84435bd38d095d</td>\n      <td>6764</td>\n      <td>taboao da serra</td>\n      <td>SP</td>\n    </tr>\n    <tr>\n      <th>99438</th>\n      <td>5e28dfe12db7fb50a4b2f691faecea5e</td>\n      <td>e9f50caf99f032f0bf3c55141f019d99</td>\n      <td>60115</td>\n      <td>fortaleza</td>\n      <td>CE</td>\n    </tr>\n    <tr>\n      <th>99439</th>\n      <td>56b18e2166679b8a959d72dd06da27f9</td>\n      <td>73c2643a0a458b49f58cea58833b192e</td>\n      <td>92120</td>\n      <td>canoas</td>\n      <td>RS</td>\n    </tr>\n    <tr>\n      <th>99440</th>\n      <td>274fa6071e5e17fe303b9748641082c8</td>\n      <td>84732c5050c01db9b23e19ba39899398</td>\n      <td>6703</td>\n      <td>cotia</td>\n      <td>SP</td>\n    </tr>\n  </tbody>\n</table>\n<p>99441 rows × 5 columns</p>\n</div>"
     },
     "execution_count": 9,
     "metadata": {},
     "output_type": "execute_result"
    }
   ],
   "source": [
    "import pandas as pd\n",
    "import psycopg2\n",
    "import glob\n",
    "import os\n",
    "import csv\n",
    "\n",
    "df = pd.read_csv('DataSourceCSV/customers_dataset.csv')\n",
    "\n",
    "for name, dtype in df.dtypes.iteritems():\n",
    "    print(name, dtype)\n",
    "df\n"
   ]
  },
  {
   "cell_type": "code",
   "execution_count": null,
   "outputs": [],
   "source": [],
   "metadata": {
    "collapsed": false
   }
  },
  {
   "cell_type": "code",
   "execution_count": 12,
   "outputs": [
    {
     "name": "stdout",
     "output_type": "stream",
     "text": [
      "Connecting to Database\n"
     ]
    }
   ],
   "source": [
    "conn = psycopg2.connect(\"host=localhost dbname=assess_etl user=macbook password=\")\n",
    "print(\"Connecting to Database\")\n",
    "\n",
    "csvPath = \"DataSourceCSV\"\n",
    "\n",
    "# Loop through each CSV\n",
    "for filename in glob.glob(csvPath+\"*.csv\"):\n",
    "# Create a table name\n",
    "    table_name = filename.replace(\"DataSourceCSV\\\\\", \"\").replace(\".csv\", \"\")\n",
    "    print(table_name)\n",
    "\n",
    "# Open file\n",
    "    fileInput = open(filename, \"r\")\n",
    "\n",
    "# Extract first line of file\n",
    "    firstLine = fileInput.readline().strip()\n",
    "\n",
    "\n",
    "# Split columns into an array [...]\n",
    "    columns = firstLine.split(\",\")\n",
    "\n",
    "\n",
    "# Build SQL code to drop table if exists and create table\n",
    "    sqlQueryCreate = 'DROP TABLE IF EXISTS '+ table_name + \";\\n\"\n",
    "    sqlQueryCreate += 'CREATE TABLE'+ table_name + \"(\"\n",
    "\n",
    "#some loop or function according to your requiremennt\n",
    "# Define columns for table\n",
    "    for column in columns:\n",
    "        sqlQueryCreate += column + \" VARCHAR(64),\\n\"\n",
    "\n",
    "    sqlQueryCreate = sqlQueryCreate[:-2]\n",
    "    sqlQueryCreate += \");\"\n",
    "\n",
    "    cur = conn.cursor()\n",
    "    cur.execute(sqlQueryCreate)\n",
    "    conn.commit()\n",
    "    cur.close()"
   ],
   "metadata": {
    "collapsed": false
   }
  }
 ],
 "metadata": {
  "kernelspec": {
   "display_name": "Python 3",
   "language": "python",
   "name": "python3"
  },
  "language_info": {
   "codemirror_mode": {
    "name": "ipython",
    "version": 2
   },
   "file_extension": ".py",
   "mimetype": "text/x-python",
   "name": "python",
   "nbconvert_exporter": "python",
   "pygments_lexer": "ipython2",
   "version": "2.7.6"
  }
 },
 "nbformat": 4,
 "nbformat_minor": 0
}
